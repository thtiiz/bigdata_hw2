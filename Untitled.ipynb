{
 "cells": [
  {
   "cell_type": "code",
   "execution_count": 62,
   "metadata": {},
   "outputs": [
    {
     "output_type": "execute_result",
     "data": {
      "text/plain": "   Area Code      Date Territory   Territory Size            Product  \\\n0        970  1/1/2012   Central  Major Territory  Decaf Irish Cream   \n1        309  1/1/2012   Central  Major Territory  Decaf Irish Cream   \n2        614  1/1/2012   Central  Major Territory  Decaf Irish Cream   \n3        720  1/1/2012   Central  Major Territory     Decaf Espresso   \n4        630  1/1/2012   Central  Major Territory     Decaf Espresso   \n\n  Product Line Product Type     State   Type Budget COGS Budget Margin  \\\n0        Beans       Coffee  Colorado  Decaf       $100          $140    \n1        Beans       Coffee  Illinois  Decaf       $100          $140    \n2        Beans       Coffee      Ohio  Decaf        $60           $90    \n3        Beans     Espresso  Colorado  Decaf        $80          $130    \n4        Beans     Espresso  Illinois  Decaf       $260          $270    \n\n  Budget Profit Budget Sales   COGS Inventory Margin Marketing Profit  Sales  \\\n0         $110         $240    $95        821  $139       $26   $101   $234    \n1         $100         $240    $95        608  $139       $30    $87   $234    \n2          $20         $150    $63        435   $87       $57     $0   $150    \n3          $80         $210    $72        558  $108       $23    $53   $180    \n4         $180         $530   $228      1,459  $228       $63   $140   $456    \n\n  Total Expenses  \n0           $38   \n1           $52   \n2           $87   \n3           $55   \n4           $88   ",
      "text/html": "<div>\n<style scoped>\n    .dataframe tbody tr th:only-of-type {\n        vertical-align: middle;\n    }\n\n    .dataframe tbody tr th {\n        vertical-align: top;\n    }\n\n    .dataframe thead th {\n        text-align: right;\n    }\n</style>\n<table border=\"1\" class=\"dataframe\">\n  <thead>\n    <tr style=\"text-align: right;\">\n      <th></th>\n      <th>Area Code</th>\n      <th>Date</th>\n      <th>Territory</th>\n      <th>Territory Size</th>\n      <th>Product</th>\n      <th>Product Line</th>\n      <th>Product Type</th>\n      <th>State</th>\n      <th>Type</th>\n      <th>Budget COGS</th>\n      <th>Budget Margin</th>\n      <th>Budget Profit</th>\n      <th>Budget Sales</th>\n      <th>COGS</th>\n      <th>Inventory</th>\n      <th>Margin</th>\n      <th>Marketing</th>\n      <th>Profit</th>\n      <th>Sales</th>\n      <th>Total Expenses</th>\n    </tr>\n  </thead>\n  <tbody>\n    <tr>\n      <th>0</th>\n      <td>970</td>\n      <td>1/1/2012</td>\n      <td>Central</td>\n      <td>Major Territory</td>\n      <td>Decaf Irish Cream</td>\n      <td>Beans</td>\n      <td>Coffee</td>\n      <td>Colorado</td>\n      <td>Decaf</td>\n      <td>$100</td>\n      <td>$140</td>\n      <td>$110</td>\n      <td>$240</td>\n      <td>$95</td>\n      <td>821</td>\n      <td>$139</td>\n      <td>$26</td>\n      <td>$101</td>\n      <td>$234</td>\n      <td>$38</td>\n    </tr>\n    <tr>\n      <th>1</th>\n      <td>309</td>\n      <td>1/1/2012</td>\n      <td>Central</td>\n      <td>Major Territory</td>\n      <td>Decaf Irish Cream</td>\n      <td>Beans</td>\n      <td>Coffee</td>\n      <td>Illinois</td>\n      <td>Decaf</td>\n      <td>$100</td>\n      <td>$140</td>\n      <td>$100</td>\n      <td>$240</td>\n      <td>$95</td>\n      <td>608</td>\n      <td>$139</td>\n      <td>$30</td>\n      <td>$87</td>\n      <td>$234</td>\n      <td>$52</td>\n    </tr>\n    <tr>\n      <th>2</th>\n      <td>614</td>\n      <td>1/1/2012</td>\n      <td>Central</td>\n      <td>Major Territory</td>\n      <td>Decaf Irish Cream</td>\n      <td>Beans</td>\n      <td>Coffee</td>\n      <td>Ohio</td>\n      <td>Decaf</td>\n      <td>$60</td>\n      <td>$90</td>\n      <td>$20</td>\n      <td>$150</td>\n      <td>$63</td>\n      <td>435</td>\n      <td>$87</td>\n      <td>$57</td>\n      <td>$0</td>\n      <td>$150</td>\n      <td>$87</td>\n    </tr>\n    <tr>\n      <th>3</th>\n      <td>720</td>\n      <td>1/1/2012</td>\n      <td>Central</td>\n      <td>Major Territory</td>\n      <td>Decaf Espresso</td>\n      <td>Beans</td>\n      <td>Espresso</td>\n      <td>Colorado</td>\n      <td>Decaf</td>\n      <td>$80</td>\n      <td>$130</td>\n      <td>$80</td>\n      <td>$210</td>\n      <td>$72</td>\n      <td>558</td>\n      <td>$108</td>\n      <td>$23</td>\n      <td>$53</td>\n      <td>$180</td>\n      <td>$55</td>\n    </tr>\n    <tr>\n      <th>4</th>\n      <td>630</td>\n      <td>1/1/2012</td>\n      <td>Central</td>\n      <td>Major Territory</td>\n      <td>Decaf Espresso</td>\n      <td>Beans</td>\n      <td>Espresso</td>\n      <td>Illinois</td>\n      <td>Decaf</td>\n      <td>$260</td>\n      <td>$270</td>\n      <td>$180</td>\n      <td>$530</td>\n      <td>$228</td>\n      <td>1,459</td>\n      <td>$228</td>\n      <td>$63</td>\n      <td>$140</td>\n      <td>$456</td>\n      <td>$88</td>\n    </tr>\n  </tbody>\n</table>\n</div>"
     },
     "metadata": {},
     "execution_count": 62
    }
   ],
   "source": [
    "import pandas as pd\n",
    "\n",
    "df = pd.read_csv(\"Coffee_Chain.csv\")\n",
    "df.head()\n"
   ]
  },
  {
   "cell_type": "code",
   "execution_count": 63,
   "metadata": {},
   "outputs": [],
   "source": [
    "money_columns = ['Budget COGS',\t'Budget Margin', 'Budget Profit', 'Budget Sales', 'COGS', 'Inventory', 'Margin',\t'Marketing', 'Profit', 'Sales', 'Total Expenses']"
   ]
  },
  {
   "cell_type": "code",
   "execution_count": 64,
   "metadata": {},
   "outputs": [
    {
     "output_type": "execute_result",
     "data": {
      "text/plain": "Area Code          int64\nDate              object\nTerritory         object\nTerritory Size    object\nProduct           object\nProduct Line      object\nProduct Type      object\nState             object\nType              object\nBudget COGS       object\nBudget Margin     object\nBudget Profit     object\nBudget Sales      object\nCOGS              object\nInventory         object\nMargin            object\nMarketing         object\nProfit            object\nSales             object\nTotal Expenses    object\ndtype: object"
     },
     "metadata": {},
     "execution_count": 64
    }
   ],
   "source": [
    "df.dtypes"
   ]
  },
  {
   "cell_type": "code",
   "execution_count": 65,
   "metadata": {
    "tags": []
   },
   "outputs": [
    {
     "output_type": "stream",
     "name": "stdout",
     "text": "100\n"
    }
   ],
   "source": [
    "import re\n",
    "\n",
    "x = re.search(r'(\\(*)\\$(\\d+)', \"$100\")\n",
    "print(x.group(2))"
   ]
  },
  {
   "cell_type": "code",
   "execution_count": 66,
   "metadata": {},
   "outputs": [],
   "source": [
    "def clean_money(money):\n",
    "    r = re.search(r'(\\(?)?\\$?([\\d,]+)(\\)?)', str(money))\n",
    "    \n",
    "    # not match anything\n",
    "    if(not r):\n",
    "        print(123)\n",
    "        return money\n",
    "\n",
    "    is_negative = r.group(1)\n",
    "    value = r.group(2).replace(',', '') # remove comma\n",
    "    if(is_negative):\n",
    "        return '-' + value\n",
    "    else:\n",
    "        return value"
   ]
  },
  {
   "cell_type": "code",
   "execution_count": 67,
   "metadata": {
    "tags": []
   },
   "outputs": [
    {
     "output_type": "execute_result",
     "data": {
      "text/plain": "      Area Code       Date Territory   Territory Size            Product  \\\n0           970   1/1/2012   Central  Major Territory  Decaf Irish Cream   \n1           309   1/1/2012   Central  Major Territory  Decaf Irish Cream   \n2           614   1/1/2012   Central  Major Territory  Decaf Irish Cream   \n3           720   1/1/2012   Central  Major Territory     Decaf Espresso   \n4           630   1/1/2012   Central  Major Territory     Decaf Espresso   \n...         ...        ...       ...              ...                ...   \n4243        253  1/12/2013      West  Small Territory          Earl Grey   \n4244        775  1/12/2013      West  Small Territory          Green Tea   \n4245        503  1/12/2013      West  Small Territory          Green Tea   \n4246        435  1/12/2013      West  Small Territory          Green Tea   \n4247        509  1/12/2013      West  Small Territory          Green Tea   \n\n     Product Line Product Type       State     Type  Budget COGS  \\\n0           Beans       Coffee    Colorado    Decaf          100   \n1           Beans       Coffee    Illinois    Decaf          100   \n2           Beans       Coffee        Ohio    Decaf           60   \n3           Beans     Espresso    Colorado    Decaf           80   \n4           Beans     Espresso    Illinois    Decaf          260   \n...           ...          ...         ...      ...          ...   \n4243       Leaves          Tea  Washington  Regular           30   \n4244       Leaves          Tea      Nevada  Regular          210   \n4245       Leaves          Tea      Oregon  Regular           90   \n4246       Leaves          Tea        Utah  Regular           10   \n4247       Leaves          Tea  Washington  Regular           40   \n\n      Budget Margin  Budget Profit  Budget Sales  COGS  Inventory  Margin  \\\n0               140            110           240    95        821     139   \n1               140            100           240    95        608     139   \n2                90             20           150    63        435      87   \n3               130             80           210    72        558     108   \n4               270            180           530   228       1459     228   \n...             ...            ...           ...   ...        ...     ...   \n4243             40             20            70    43        466      63   \n4244           -210           -320             0   294       8252    -294   \n4245            140            100           230   134        690     186   \n4246             20              0            30    20        218      25   \n4247             50            -10            90    55        627      76   \n\n      Marketing  Profit  Sales  Total Expenses  \n0            26     101    234              38  \n1            30      87    234              52  \n2            57       0    150              87  \n3            23      53    180              55  \n4            63     140    456              88  \n...         ...     ...    ...             ...  \n4243         13      42    113              35  \n4244        111    -605     33             145  \n4245         41     180    341              65  \n4246          7     -22     48              40  \n4247         49      -4    140              79  \n\n[4248 rows x 20 columns]",
      "text/html": "<div>\n<style scoped>\n    .dataframe tbody tr th:only-of-type {\n        vertical-align: middle;\n    }\n\n    .dataframe tbody tr th {\n        vertical-align: top;\n    }\n\n    .dataframe thead th {\n        text-align: right;\n    }\n</style>\n<table border=\"1\" class=\"dataframe\">\n  <thead>\n    <tr style=\"text-align: right;\">\n      <th></th>\n      <th>Area Code</th>\n      <th>Date</th>\n      <th>Territory</th>\n      <th>Territory Size</th>\n      <th>Product</th>\n      <th>Product Line</th>\n      <th>Product Type</th>\n      <th>State</th>\n      <th>Type</th>\n      <th>Budget COGS</th>\n      <th>Budget Margin</th>\n      <th>Budget Profit</th>\n      <th>Budget Sales</th>\n      <th>COGS</th>\n      <th>Inventory</th>\n      <th>Margin</th>\n      <th>Marketing</th>\n      <th>Profit</th>\n      <th>Sales</th>\n      <th>Total Expenses</th>\n    </tr>\n  </thead>\n  <tbody>\n    <tr>\n      <th>0</th>\n      <td>970</td>\n      <td>1/1/2012</td>\n      <td>Central</td>\n      <td>Major Territory</td>\n      <td>Decaf Irish Cream</td>\n      <td>Beans</td>\n      <td>Coffee</td>\n      <td>Colorado</td>\n      <td>Decaf</td>\n      <td>100</td>\n      <td>140</td>\n      <td>110</td>\n      <td>240</td>\n      <td>95</td>\n      <td>821</td>\n      <td>139</td>\n      <td>26</td>\n      <td>101</td>\n      <td>234</td>\n      <td>38</td>\n    </tr>\n    <tr>\n      <th>1</th>\n      <td>309</td>\n      <td>1/1/2012</td>\n      <td>Central</td>\n      <td>Major Territory</td>\n      <td>Decaf Irish Cream</td>\n      <td>Beans</td>\n      <td>Coffee</td>\n      <td>Illinois</td>\n      <td>Decaf</td>\n      <td>100</td>\n      <td>140</td>\n      <td>100</td>\n      <td>240</td>\n      <td>95</td>\n      <td>608</td>\n      <td>139</td>\n      <td>30</td>\n      <td>87</td>\n      <td>234</td>\n      <td>52</td>\n    </tr>\n    <tr>\n      <th>2</th>\n      <td>614</td>\n      <td>1/1/2012</td>\n      <td>Central</td>\n      <td>Major Territory</td>\n      <td>Decaf Irish Cream</td>\n      <td>Beans</td>\n      <td>Coffee</td>\n      <td>Ohio</td>\n      <td>Decaf</td>\n      <td>60</td>\n      <td>90</td>\n      <td>20</td>\n      <td>150</td>\n      <td>63</td>\n      <td>435</td>\n      <td>87</td>\n      <td>57</td>\n      <td>0</td>\n      <td>150</td>\n      <td>87</td>\n    </tr>\n    <tr>\n      <th>3</th>\n      <td>720</td>\n      <td>1/1/2012</td>\n      <td>Central</td>\n      <td>Major Territory</td>\n      <td>Decaf Espresso</td>\n      <td>Beans</td>\n      <td>Espresso</td>\n      <td>Colorado</td>\n      <td>Decaf</td>\n      <td>80</td>\n      <td>130</td>\n      <td>80</td>\n      <td>210</td>\n      <td>72</td>\n      <td>558</td>\n      <td>108</td>\n      <td>23</td>\n      <td>53</td>\n      <td>180</td>\n      <td>55</td>\n    </tr>\n    <tr>\n      <th>4</th>\n      <td>630</td>\n      <td>1/1/2012</td>\n      <td>Central</td>\n      <td>Major Territory</td>\n      <td>Decaf Espresso</td>\n      <td>Beans</td>\n      <td>Espresso</td>\n      <td>Illinois</td>\n      <td>Decaf</td>\n      <td>260</td>\n      <td>270</td>\n      <td>180</td>\n      <td>530</td>\n      <td>228</td>\n      <td>1459</td>\n      <td>228</td>\n      <td>63</td>\n      <td>140</td>\n      <td>456</td>\n      <td>88</td>\n    </tr>\n    <tr>\n      <th>...</th>\n      <td>...</td>\n      <td>...</td>\n      <td>...</td>\n      <td>...</td>\n      <td>...</td>\n      <td>...</td>\n      <td>...</td>\n      <td>...</td>\n      <td>...</td>\n      <td>...</td>\n      <td>...</td>\n      <td>...</td>\n      <td>...</td>\n      <td>...</td>\n      <td>...</td>\n      <td>...</td>\n      <td>...</td>\n      <td>...</td>\n      <td>...</td>\n      <td>...</td>\n    </tr>\n    <tr>\n      <th>4243</th>\n      <td>253</td>\n      <td>1/12/2013</td>\n      <td>West</td>\n      <td>Small Territory</td>\n      <td>Earl Grey</td>\n      <td>Leaves</td>\n      <td>Tea</td>\n      <td>Washington</td>\n      <td>Regular</td>\n      <td>30</td>\n      <td>40</td>\n      <td>20</td>\n      <td>70</td>\n      <td>43</td>\n      <td>466</td>\n      <td>63</td>\n      <td>13</td>\n      <td>42</td>\n      <td>113</td>\n      <td>35</td>\n    </tr>\n    <tr>\n      <th>4244</th>\n      <td>775</td>\n      <td>1/12/2013</td>\n      <td>West</td>\n      <td>Small Territory</td>\n      <td>Green Tea</td>\n      <td>Leaves</td>\n      <td>Tea</td>\n      <td>Nevada</td>\n      <td>Regular</td>\n      <td>210</td>\n      <td>-210</td>\n      <td>-320</td>\n      <td>0</td>\n      <td>294</td>\n      <td>8252</td>\n      <td>-294</td>\n      <td>111</td>\n      <td>-605</td>\n      <td>33</td>\n      <td>145</td>\n    </tr>\n    <tr>\n      <th>4245</th>\n      <td>503</td>\n      <td>1/12/2013</td>\n      <td>West</td>\n      <td>Small Territory</td>\n      <td>Green Tea</td>\n      <td>Leaves</td>\n      <td>Tea</td>\n      <td>Oregon</td>\n      <td>Regular</td>\n      <td>90</td>\n      <td>140</td>\n      <td>100</td>\n      <td>230</td>\n      <td>134</td>\n      <td>690</td>\n      <td>186</td>\n      <td>41</td>\n      <td>180</td>\n      <td>341</td>\n      <td>65</td>\n    </tr>\n    <tr>\n      <th>4246</th>\n      <td>435</td>\n      <td>1/12/2013</td>\n      <td>West</td>\n      <td>Small Territory</td>\n      <td>Green Tea</td>\n      <td>Leaves</td>\n      <td>Tea</td>\n      <td>Utah</td>\n      <td>Regular</td>\n      <td>10</td>\n      <td>20</td>\n      <td>0</td>\n      <td>30</td>\n      <td>20</td>\n      <td>218</td>\n      <td>25</td>\n      <td>7</td>\n      <td>-22</td>\n      <td>48</td>\n      <td>40</td>\n    </tr>\n    <tr>\n      <th>4247</th>\n      <td>509</td>\n      <td>1/12/2013</td>\n      <td>West</td>\n      <td>Small Territory</td>\n      <td>Green Tea</td>\n      <td>Leaves</td>\n      <td>Tea</td>\n      <td>Washington</td>\n      <td>Regular</td>\n      <td>40</td>\n      <td>50</td>\n      <td>-10</td>\n      <td>90</td>\n      <td>55</td>\n      <td>627</td>\n      <td>76</td>\n      <td>49</td>\n      <td>-4</td>\n      <td>140</td>\n      <td>79</td>\n    </tr>\n  </tbody>\n</table>\n<p>4248 rows × 20 columns</p>\n</div>"
     },
     "metadata": {},
     "execution_count": 67
    }
   ],
   "source": [
    "for money_column in money_columns:\n",
    "    df[money_column] = df[money_column].apply(clean_money).astype(int)\n",
    "df"
   ]
  },
  {
   "cell_type": "code",
   "execution_count": 68,
   "metadata": {},
   "outputs": [
    {
     "output_type": "execute_result",
     "data": {
      "text/plain": "Area Code          int64\nDate              object\nTerritory         object\nTerritory Size    object\nProduct           object\nProduct Line      object\nProduct Type      object\nState             object\nType              object\nBudget COGS        int64\nBudget Margin      int64\nBudget Profit      int64\nBudget Sales       int64\nCOGS               int64\nInventory          int64\nMargin             int64\nMarketing          int64\nProfit             int64\nSales              int64\nTotal Expenses     int64\ndtype: object"
     },
     "metadata": {},
     "execution_count": 68
    }
   ],
   "source": [
    "df.dtypes"
   ]
  },
  {
   "cell_type": "code",
   "execution_count": 69,
   "metadata": {},
   "outputs": [],
   "source": [
    "from datetime import datetime\n",
    "\n",
    "date_column = 'Date'\n",
    "\n",
    "df[date_column] = df[date_column].apply(lambda d: datetime.strptime(d, '%d/%m/%Y').strftime('%d-%m-%Y'))"
   ]
  },
  {
   "cell_type": "code",
   "execution_count": 70,
   "metadata": {},
   "outputs": [
    {
     "output_type": "execute_result",
     "data": {
      "text/plain": "      Area Code        Date Territory   Territory Size            Product  \\\n0           970  01-01-2012   Central  Major Territory  Decaf Irish Cream   \n1           309  01-01-2012   Central  Major Territory  Decaf Irish Cream   \n2           614  01-01-2012   Central  Major Territory  Decaf Irish Cream   \n3           720  01-01-2012   Central  Major Territory     Decaf Espresso   \n4           630  01-01-2012   Central  Major Territory     Decaf Espresso   \n...         ...         ...       ...              ...                ...   \n4243        253  01-12-2013      West  Small Territory          Earl Grey   \n4244        775  01-12-2013      West  Small Territory          Green Tea   \n4245        503  01-12-2013      West  Small Territory          Green Tea   \n4246        435  01-12-2013      West  Small Territory          Green Tea   \n4247        509  01-12-2013      West  Small Territory          Green Tea   \n\n     Product Line Product Type       State     Type  Budget COGS  \\\n0           Beans       Coffee    Colorado    Decaf          100   \n1           Beans       Coffee    Illinois    Decaf          100   \n2           Beans       Coffee        Ohio    Decaf           60   \n3           Beans     Espresso    Colorado    Decaf           80   \n4           Beans     Espresso    Illinois    Decaf          260   \n...           ...          ...         ...      ...          ...   \n4243       Leaves          Tea  Washington  Regular           30   \n4244       Leaves          Tea      Nevada  Regular          210   \n4245       Leaves          Tea      Oregon  Regular           90   \n4246       Leaves          Tea        Utah  Regular           10   \n4247       Leaves          Tea  Washington  Regular           40   \n\n      Budget Margin  Budget Profit  Budget Sales  COGS  Inventory  Margin  \\\n0               140            110           240    95        821     139   \n1               140            100           240    95        608     139   \n2                90             20           150    63        435      87   \n3               130             80           210    72        558     108   \n4               270            180           530   228       1459     228   \n...             ...            ...           ...   ...        ...     ...   \n4243             40             20            70    43        466      63   \n4244           -210           -320             0   294       8252    -294   \n4245            140            100           230   134        690     186   \n4246             20              0            30    20        218      25   \n4247             50            -10            90    55        627      76   \n\n      Marketing  Profit  Sales  Total Expenses  \n0            26     101    234              38  \n1            30      87    234              52  \n2            57       0    150              87  \n3            23      53    180              55  \n4            63     140    456              88  \n...         ...     ...    ...             ...  \n4243         13      42    113              35  \n4244        111    -605     33             145  \n4245         41     180    341              65  \n4246          7     -22     48              40  \n4247         49      -4    140              79  \n\n[4248 rows x 20 columns]",
      "text/html": "<div>\n<style scoped>\n    .dataframe tbody tr th:only-of-type {\n        vertical-align: middle;\n    }\n\n    .dataframe tbody tr th {\n        vertical-align: top;\n    }\n\n    .dataframe thead th {\n        text-align: right;\n    }\n</style>\n<table border=\"1\" class=\"dataframe\">\n  <thead>\n    <tr style=\"text-align: right;\">\n      <th></th>\n      <th>Area Code</th>\n      <th>Date</th>\n      <th>Territory</th>\n      <th>Territory Size</th>\n      <th>Product</th>\n      <th>Product Line</th>\n      <th>Product Type</th>\n      <th>State</th>\n      <th>Type</th>\n      <th>Budget COGS</th>\n      <th>Budget Margin</th>\n      <th>Budget Profit</th>\n      <th>Budget Sales</th>\n      <th>COGS</th>\n      <th>Inventory</th>\n      <th>Margin</th>\n      <th>Marketing</th>\n      <th>Profit</th>\n      <th>Sales</th>\n      <th>Total Expenses</th>\n    </tr>\n  </thead>\n  <tbody>\n    <tr>\n      <th>0</th>\n      <td>970</td>\n      <td>01-01-2012</td>\n      <td>Central</td>\n      <td>Major Territory</td>\n      <td>Decaf Irish Cream</td>\n      <td>Beans</td>\n      <td>Coffee</td>\n      <td>Colorado</td>\n      <td>Decaf</td>\n      <td>100</td>\n      <td>140</td>\n      <td>110</td>\n      <td>240</td>\n      <td>95</td>\n      <td>821</td>\n      <td>139</td>\n      <td>26</td>\n      <td>101</td>\n      <td>234</td>\n      <td>38</td>\n    </tr>\n    <tr>\n      <th>1</th>\n      <td>309</td>\n      <td>01-01-2012</td>\n      <td>Central</td>\n      <td>Major Territory</td>\n      <td>Decaf Irish Cream</td>\n      <td>Beans</td>\n      <td>Coffee</td>\n      <td>Illinois</td>\n      <td>Decaf</td>\n      <td>100</td>\n      <td>140</td>\n      <td>100</td>\n      <td>240</td>\n      <td>95</td>\n      <td>608</td>\n      <td>139</td>\n      <td>30</td>\n      <td>87</td>\n      <td>234</td>\n      <td>52</td>\n    </tr>\n    <tr>\n      <th>2</th>\n      <td>614</td>\n      <td>01-01-2012</td>\n      <td>Central</td>\n      <td>Major Territory</td>\n      <td>Decaf Irish Cream</td>\n      <td>Beans</td>\n      <td>Coffee</td>\n      <td>Ohio</td>\n      <td>Decaf</td>\n      <td>60</td>\n      <td>90</td>\n      <td>20</td>\n      <td>150</td>\n      <td>63</td>\n      <td>435</td>\n      <td>87</td>\n      <td>57</td>\n      <td>0</td>\n      <td>150</td>\n      <td>87</td>\n    </tr>\n    <tr>\n      <th>3</th>\n      <td>720</td>\n      <td>01-01-2012</td>\n      <td>Central</td>\n      <td>Major Territory</td>\n      <td>Decaf Espresso</td>\n      <td>Beans</td>\n      <td>Espresso</td>\n      <td>Colorado</td>\n      <td>Decaf</td>\n      <td>80</td>\n      <td>130</td>\n      <td>80</td>\n      <td>210</td>\n      <td>72</td>\n      <td>558</td>\n      <td>108</td>\n      <td>23</td>\n      <td>53</td>\n      <td>180</td>\n      <td>55</td>\n    </tr>\n    <tr>\n      <th>4</th>\n      <td>630</td>\n      <td>01-01-2012</td>\n      <td>Central</td>\n      <td>Major Territory</td>\n      <td>Decaf Espresso</td>\n      <td>Beans</td>\n      <td>Espresso</td>\n      <td>Illinois</td>\n      <td>Decaf</td>\n      <td>260</td>\n      <td>270</td>\n      <td>180</td>\n      <td>530</td>\n      <td>228</td>\n      <td>1459</td>\n      <td>228</td>\n      <td>63</td>\n      <td>140</td>\n      <td>456</td>\n      <td>88</td>\n    </tr>\n    <tr>\n      <th>...</th>\n      <td>...</td>\n      <td>...</td>\n      <td>...</td>\n      <td>...</td>\n      <td>...</td>\n      <td>...</td>\n      <td>...</td>\n      <td>...</td>\n      <td>...</td>\n      <td>...</td>\n      <td>...</td>\n      <td>...</td>\n      <td>...</td>\n      <td>...</td>\n      <td>...</td>\n      <td>...</td>\n      <td>...</td>\n      <td>...</td>\n      <td>...</td>\n      <td>...</td>\n    </tr>\n    <tr>\n      <th>4243</th>\n      <td>253</td>\n      <td>01-12-2013</td>\n      <td>West</td>\n      <td>Small Territory</td>\n      <td>Earl Grey</td>\n      <td>Leaves</td>\n      <td>Tea</td>\n      <td>Washington</td>\n      <td>Regular</td>\n      <td>30</td>\n      <td>40</td>\n      <td>20</td>\n      <td>70</td>\n      <td>43</td>\n      <td>466</td>\n      <td>63</td>\n      <td>13</td>\n      <td>42</td>\n      <td>113</td>\n      <td>35</td>\n    </tr>\n    <tr>\n      <th>4244</th>\n      <td>775</td>\n      <td>01-12-2013</td>\n      <td>West</td>\n      <td>Small Territory</td>\n      <td>Green Tea</td>\n      <td>Leaves</td>\n      <td>Tea</td>\n      <td>Nevada</td>\n      <td>Regular</td>\n      <td>210</td>\n      <td>-210</td>\n      <td>-320</td>\n      <td>0</td>\n      <td>294</td>\n      <td>8252</td>\n      <td>-294</td>\n      <td>111</td>\n      <td>-605</td>\n      <td>33</td>\n      <td>145</td>\n    </tr>\n    <tr>\n      <th>4245</th>\n      <td>503</td>\n      <td>01-12-2013</td>\n      <td>West</td>\n      <td>Small Territory</td>\n      <td>Green Tea</td>\n      <td>Leaves</td>\n      <td>Tea</td>\n      <td>Oregon</td>\n      <td>Regular</td>\n      <td>90</td>\n      <td>140</td>\n      <td>100</td>\n      <td>230</td>\n      <td>134</td>\n      <td>690</td>\n      <td>186</td>\n      <td>41</td>\n      <td>180</td>\n      <td>341</td>\n      <td>65</td>\n    </tr>\n    <tr>\n      <th>4246</th>\n      <td>435</td>\n      <td>01-12-2013</td>\n      <td>West</td>\n      <td>Small Territory</td>\n      <td>Green Tea</td>\n      <td>Leaves</td>\n      <td>Tea</td>\n      <td>Utah</td>\n      <td>Regular</td>\n      <td>10</td>\n      <td>20</td>\n      <td>0</td>\n      <td>30</td>\n      <td>20</td>\n      <td>218</td>\n      <td>25</td>\n      <td>7</td>\n      <td>-22</td>\n      <td>48</td>\n      <td>40</td>\n    </tr>\n    <tr>\n      <th>4247</th>\n      <td>509</td>\n      <td>01-12-2013</td>\n      <td>West</td>\n      <td>Small Territory</td>\n      <td>Green Tea</td>\n      <td>Leaves</td>\n      <td>Tea</td>\n      <td>Washington</td>\n      <td>Regular</td>\n      <td>40</td>\n      <td>50</td>\n      <td>-10</td>\n      <td>90</td>\n      <td>55</td>\n      <td>627</td>\n      <td>76</td>\n      <td>49</td>\n      <td>-4</td>\n      <td>140</td>\n      <td>79</td>\n    </tr>\n  </tbody>\n</table>\n<p>4248 rows × 20 columns</p>\n</div>"
     },
     "metadata": {},
     "execution_count": 70
    }
   ],
   "source": [
    "df"
   ]
  },
  {
   "cell_type": "code",
   "execution_count": null,
   "metadata": {},
   "outputs": [],
   "source": []
  }
 ],
 "metadata": {
  "kernelspec": {
   "display_name": "Python 3",
   "language": "python",
   "name": "python3"
  },
  "language_info": {
   "codemirror_mode": {
    "name": "ipython",
    "version": 3
   },
   "file_extension": ".py",
   "mimetype": "text/x-python",
   "name": "python",
   "nbconvert_exporter": "python",
   "pygments_lexer": "ipython3",
   "version": "3.8.2-final"
  }
 },
 "nbformat": 4,
 "nbformat_minor": 4
}